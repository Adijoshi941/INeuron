{
 "cells": [
  {
   "cell_type": "code",
   "execution_count": 1,
   "metadata": {},
   "outputs": [
    {
     "name": "stdout",
     "output_type": "stream",
     "text": [
      "Enter kilometers10\n",
      "10.00000 km in miles is 6.21370 miles\n"
     ]
    }
   ],
   "source": [
    "#Write a Python program to convert kilometers to miles\n",
    "km = float(input(\"Enter kilometers\"))\n",
    "miles = 0.62137*km\n",
    "print(\"%0.5f km in miles is %0.5f miles\" %(km,miles))"
   ]
  },
  {
   "cell_type": "code",
   "execution_count": 2,
   "metadata": {},
   "outputs": [
    {
     "name": "stdout",
     "output_type": "stream",
     "text": [
      "Enter temperature in celsius36\n",
      "36.00000 celsius in fahernhit is 96.80000 fahernhit\n"
     ]
    }
   ],
   "source": [
    "#Write a Python program to convert Celsius to Fahrenheit\n",
    "celsius = float(input(\"Enter temperature in celsius\"))\n",
    "fahernhit = (celsius * 9/5) + 32\n",
    "print(\"%0.5f celsius in fahernhit is %0.5f fahernhit\" %(celsius,fahernhit))"
   ]
  },
  {
   "cell_type": "code",
   "execution_count": 3,
   "metadata": {},
   "outputs": [
    {
     "name": "stdout",
     "output_type": "stream",
     "text": [
      "     April 2021\n",
      "Mo Tu We Th Fr Sa Su\n",
      "          1  2  3  4\n",
      " 5  6  7  8  9 10 11\n",
      "12 13 14 15 16 17 18\n",
      "19 20 21 22 23 24 25\n",
      "26 27 28 29 30\n",
      "\n"
     ]
    }
   ],
   "source": [
    "#Write a Python program to display calendar\n",
    "import calendar\n",
    "yy = 2021\n",
    "mm = 4\n",
    "print(calendar.month(yy,mm))"
   ]
  },
  {
   "cell_type": "code",
   "execution_count": 4,
   "metadata": {},
   "outputs": [
    {
     "name": "stdout",
     "output_type": "stream",
     "text": [
      "enter coefficient for X^2 1\n",
      "enter coefficient for X 5\n",
      "enter constant 6\n",
      "the solutions of quadratic equation are (-2+0j) (-3+0j)\n"
     ]
    }
   ],
   "source": [
    "#Write a Python program to solve quadratic equation\n",
    "import cmath\n",
    "a = int(input(\"enter coefficient for X^2 \"))\n",
    "b = int(input(\"enter coefficient for X \"))\n",
    "c = int(input(\"enter constant \"))\n",
    "\n",
    "m = (b**2 - 4*a*c)\n",
    "res1,res2 = (-b + cmath.sqrt(m))/2*a,(-b - cmath.sqrt(m))/2*a\n",
    "print(\"the solutions of quadratic equation are\",res1,res2)"
   ]
  },
  {
   "cell_type": "code",
   "execution_count": 5,
   "metadata": {},
   "outputs": [
    {
     "name": "stdout",
     "output_type": "stream",
     "text": [
      "4\n",
      "2\n",
      "Numbers before swapping are Number1: 4 and Number2: 2\n",
      "Numbers after swapping are Number1: 2 and Number2: 4\n"
     ]
    }
   ],
   "source": [
    "#Write a Python program to swap two variables without temp variable\n",
    "num1 = int(input())\n",
    "num2 = int(input())\n",
    "print(\"Numbers before swapping are Number1:\",num1,\"and Number2:\",num2)\n",
    "num1,num2=num2,num1\n",
    "print(\"Numbers after swapping are Number1:\",num1,\"and Number2:\",num2)"
   ]
  },
  {
   "cell_type": "code",
   "execution_count": null,
   "metadata": {},
   "outputs": [],
   "source": []
  }
 ],
 "metadata": {
  "kernelspec": {
   "display_name": "ineuron",
   "language": "python",
   "name": "ineuron"
  },
  "language_info": {
   "codemirror_mode": {
    "name": "ipython",
    "version": 3
   },
   "file_extension": ".py",
   "mimetype": "text/x-python",
   "name": "python",
   "nbconvert_exporter": "python",
   "pygments_lexer": "ipython3",
   "version": "3.8.8"
  }
 },
 "nbformat": 4,
 "nbformat_minor": 4
}
