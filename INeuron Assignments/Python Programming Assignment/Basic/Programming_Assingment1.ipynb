{
 "cells": [
  {
   "cell_type": "code",
   "execution_count": 1,
   "metadata": {},
   "outputs": [
    {
     "name": "stdout",
     "output_type": "stream",
     "text": [
      "Hello Python\n"
     ]
    }
   ],
   "source": [
    "print(\"Hello Python\")"
   ]
  },
  {
   "cell_type": "code",
   "execution_count": 2,
   "metadata": {},
   "outputs": [
    {
     "name": "stdout",
     "output_type": "stream",
     "text": [
      "4\n",
      "2\n",
      "Addition of 4 and 2 is: 6\n",
      "Division of 4 and 2 is: 2.0\n"
     ]
    }
   ],
   "source": [
    "num1 = int(input())\n",
    "num2 = int(input())\n",
    "add = num1+num2\n",
    "div = num1/num2\n",
    "print(\"Addition of\",num1,\"and\",num2,\"is:\",add)\n",
    "print(\"Division of\",num1,\"and\",num2,\"is:\",div)"
   ]
  },
  {
   "cell_type": "code",
   "execution_count": 3,
   "metadata": {},
   "outputs": [
    {
     "name": "stdout",
     "output_type": "stream",
     "text": [
      "4\n",
      "2\n",
      "Area of triangle having length 4 and breadth 2 is: 4.0\n"
     ]
    }
   ],
   "source": [
    "length = int(input())\n",
    "breadth = int(input())\n",
    "area = (num1*num2)/2\n",
    "print(\"Area of triangle having length\",length,\"and breadth\",breadth,\"is:\",area)"
   ]
  },
  {
   "cell_type": "code",
   "execution_count": 4,
   "metadata": {},
   "outputs": [
    {
     "name": "stdout",
     "output_type": "stream",
     "text": [
      "4\n",
      "2\n",
      "Numbers before swapping are Number1: 4 and Number2: 2\n",
      "Numbers after swapping are Number1: 2 and Number2: 4\n"
     ]
    }
   ],
   "source": [
    "num1 = int(input())\n",
    "num2 = int(input())\n",
    "print(\"Numbers before swapping are Number1:\",num1,\"and Number2:\",num2)\n",
    "num1,num2=num2,num1\n",
    "print(\"Numbers after swapping are Number1:\",num1,\"and Number2:\",num2)"
   ]
  },
  {
   "cell_type": "code",
   "execution_count": 5,
   "metadata": {},
   "outputs": [
    {
     "name": "stdout",
     "output_type": "stream",
     "text": [
      "Randon Number Generated is 3\n"
     ]
    }
   ],
   "source": [
    "import random\n",
    "print(\"Randon Number Generated is\",random.randint(0,9))"
   ]
  },
  {
   "cell_type": "code",
   "execution_count": null,
   "metadata": {},
   "outputs": [],
   "source": []
  }
 ],
 "metadata": {
  "kernelspec": {
   "display_name": "ineuron",
   "language": "python",
   "name": "ineuron"
  },
  "language_info": {
   "codemirror_mode": {
    "name": "ipython",
    "version": 3
   },
   "file_extension": ".py",
   "mimetype": "text/x-python",
   "name": "python",
   "nbconvert_exporter": "python",
   "pygments_lexer": "ipython3",
   "version": "3.8.8"
  }
 },
 "nbformat": 4,
 "nbformat_minor": 4
}
